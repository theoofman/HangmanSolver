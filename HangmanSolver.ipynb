{
  "nbformat": 4,
  "nbformat_minor": 0,
  "metadata": {
    "colab": {
      "provenance": [],
      "authorship_tag": "ABX9TyNCvEcKgQx/O+Ru4yT8Ds2h"
    },
    "kernelspec": {
      "name": "python3",
      "display_name": "Python 3"
    },
    "language_info": {
      "name": "python"
    }
  },
  "cells": [
    {
      "cell_type": "code",
      "execution_count": null,
      "metadata": {
        "id": "O9bXNhaC9Cuv"
      },
      "outputs": [],
      "source": [
        "import json\n",
        "from collections import defaultdict\n",
        "\n",
        "with open(\"words_dictionary.json\") as json_file:\n",
        "  data = json.load(json_file)\n",
        "  data = list(data.keys())\n"
      ]
    },
    {
      "cell_type": "code",
      "source": [
        "solved = False\n",
        "def solveHangman():\n",
        "  alphabet = [\"a\", \"b\", \"c\", \"d\", \"e\", \"f\", \"g\", \"h\", \"i\", \"j\", \"k\", \"l\", \"m\", \"n\", \"o\", \"p\", \"q\", \"r\", \"s\", \"t\", \"u\", \"v\", \"w\", \"x\", \"y\", \"z\"]\n",
        "  print(\"Input revealed answer with - as unknown\")\n",
        "  guess = input(\"> \")\n",
        "  print(\"Input guessed letters in form \\\"abcd\\\"\")\n",
        "  available_letters = list(input(\"> \"))\n",
        "  available_letters = [letter for letter in alphabet if letter not in available_letters]\n",
        "\n",
        "\n",
        "  letter_points = []\n",
        "  for x in range(len(guess)):\n",
        "    if guess[x] != \"-\":\n",
        "      letter_points.append(x)\n",
        "  nonletter_points = list(range(len(guess)))\n",
        "  for x in letter_points:\n",
        "    if(x in nonletter_points):\n",
        "      nonletter_points.remove(x)\n",
        "\n",
        "  def is_valid_guess(x):\n",
        "    if(len(x)==len(guess)):\n",
        "      for i in letter_points:\n",
        "        if(x[i] != guess[i]):\n",
        "          return False\n",
        "      for i in nonletter_points:\n",
        "        if(x[i] not in available_letters):\n",
        "          return False\n",
        "      return True\n",
        "    return False\n",
        "  def letter_percentage(guesses):\n",
        "      # Initialize a dictionary to store the letter percentages\n",
        "      letter_percentages = {letter: 0 for letter in available_letters}\n",
        "\n",
        "      # Count the total number of words in the guesses list\n",
        "      total_words = len(guesses)\n",
        "\n",
        "      # Loop through each word in the guesses list\n",
        "      for word in guesses:\n",
        "          # Create a set of unique letters in the word for efficient counting\n",
        "          unique_letters = set(word)\n",
        "\n",
        "          # Update the letter percentages based on the unique letters in the word\n",
        "          for letter in unique_letters:\n",
        "              if letter in available_letters:\n",
        "                  letter_percentages[letter] += 1\n",
        "\n",
        "      # Calculate the percentages\n",
        "      for letter, count in letter_percentages.items():\n",
        "          letter_percentages[letter] = (count / total_words) * 100\n",
        "\n",
        "      return letter_percentages\n",
        "  guesses = list(filter(is_valid_guess,data))\n",
        "  if(len(guesses) == 1):\n",
        "    solved = True\n",
        "    return guesses[0]\n",
        "  weights = letter_percentage(guesses)\n",
        "  sorted_percentages = sorted(weights.items(), key=lambda x: x[1], reverse=True)\n",
        "  return(sorted_percentages[:5])\n",
        "\n",
        "\n",
        "\n"
      ],
      "metadata": {
        "id": "KaOpbTIj-OkP"
      },
      "execution_count": null,
      "outputs": []
    },
    {
      "cell_type": "code",
      "source": [
        "\n",
        "while not solved:\n",
        "  print(solveHangman())\n",
        "  x = input(\"Solved? y/n >\")\n",
        "  if(x==\"y\"):\n",
        "    solved = True\n"
      ],
      "metadata": {
        "colab": {
          "base_uri": "https://localhost:8080/"
        },
        "id": "DtEkAST7Hx7T",
        "outputId": "8c0d349b-a376-42ff-8572-0c4ff9107824"
      },
      "execution_count": null,
      "outputs": [
        {
          "name": "stdout",
          "output_type": "stream",
          "text": [
            "Input revealed answer with - as unknown\n",
            "> ---------\n",
            "Input guessed letters in form \"abcd\"\n",
            "> \n",
            "[('e', 71.09712937475423), ('i', 61.60140816059023), ('a', 57.9330749208846), ('r', 54.02505477220381), ('s', 52.63000205980938)]\n",
            "Solved? y/n >n\n",
            "Input revealed answer with - as unknown\n",
            "> --------e\n",
            "Input guessed letters in form \"abcd\"\n",
            "> e\n",
            "[('i', 70.71726255757842), ('a', 69.9276157051985), ('t', 54.37595964027199), ('o', 51.26124150032902), ('l', 48.40973897784602)]\n",
            "Solved? y/n >n\n",
            "Input revealed answer with - as unknown\n",
            "> --------e\n",
            "Input guessed letters in form \"abcd\"\n",
            "> ei\n",
            "[('a', 76.55430711610487), ('o', 67.71535580524345), ('t', 53.333333333333336), ('l', 48.46441947565543), ('r', 47.19101123595505)]\n",
            "Solved? y/n >n\n",
            "Input revealed answer with - as unknown\n",
            "> a-----a-e\n",
            "Input guessed letters in form \"abcd\"\n",
            "> aei\n",
            "[('o', 71.42857142857143), ('t', 67.85714285714286), ('r', 53.57142857142857), ('c', 42.857142857142854), ('s', 42.857142857142854)]\n",
            "Solved? y/n >n\n",
            "Input revealed answer with - as unknown\n",
            "> a---o-a-e\n",
            "Input guessed letters in form \"abcd\"\n",
            "> aeio\n",
            "[('r', 87.5), ('t', 62.5), ('c', 50.0), ('n', 50.0), ('g', 37.5)]\n",
            "Solved? y/n >n\n",
            "Input revealed answer with - as unknown\n",
            "> a---ora-e\n",
            "Input guessed letters in form \"abcd\"\n",
            "> aeior\n",
            "[('c', 100.0), ('h', 100.0), ('n', 100.0), ('g', 50.0), ('t', 50.0)]\n",
            "Solved? y/n >n\n",
            "Input revealed answer with - as unknown\n",
            "> a-c-ora-e\n",
            "Input guessed letters in form \"abcd\"\n",
            "> aceior\n",
            "[('h', 100.0), ('n', 100.0), ('g', 50.0), ('t', 50.0), ('b', 0.0)]\n",
            "Solved? y/n >n\n",
            "Input revealed answer with - as unknown\n",
            "> a-chora-e\n",
            "Input guessed letters in form \"abcd\"\n",
            "> acehior\n",
            "[('n', 100.0), ('g', 50.0), ('t', 50.0), ('b', 0.0), ('d', 0.0)]\n",
            "Solved? y/n >y\n"
          ]
        }
      ]
    }
  ]
}